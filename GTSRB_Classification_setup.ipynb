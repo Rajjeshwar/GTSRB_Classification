{
 "cells": [
  {
   "cell_type": "markdown",
   "metadata": {},
   "source": [
    "### Import libraries"
   ]
  },
  {
   "cell_type": "code",
   "execution_count": 18,
   "metadata": {},
   "outputs": [],
   "source": [
    "import numpy as np\n",
    "import pandas as pd\n",
    "import os\n",
    "import cv2\n",
    "import random\n",
    "import unittest\n",
    "\n",
    "import matplotlib.pyplot as plt\n",
    "\n",
    "from numpy import save\n",
    "from imgaug import augmenters as iaa"
   ]
  },
  {
   "cell_type": "markdown",
   "metadata": {},
   "source": [
    "### Load data"
   ]
  },
  {
   "cell_type": "code",
   "execution_count": 19,
   "metadata": {},
   "outputs": [],
   "source": [
    "classes = []\n",
    "\n",
    "\n",
    "def data_loading():\n",
    "    total_classes = 0\n",
    "    data_dir_train = r\"C:\\Users\\Desktop\\Desktop\\JuPyter Notebooks\\data\\Roadsigns\\Train\"\n",
    "    data_dir_test = r\"C:\\Users\\Desktop\\Desktop\\JuPyter Notebooks\\data\\Roadsigns\\Test\"\n",
    "    for dirs in os.walk(data_dir_train):\n",
    "        total_classes += 1\n",
    "    total_classes -= 1  # excluding because parent directory\n",
    "    classes = os.listdir(data_dir_train)\n",
    "    classes = np.array(classes, dtype=float)\n",
    "    classes.sort()\n",
    "    classes = np.array(classes, dtype=int)\n",
    "    classes = np.array(classes, dtype=str)\n",
    "    string_class_labels = classes\n",
    "    return classes, data_dir_train, data_dir_test, string_class_labels"
   ]
  },
  {
   "cell_type": "code",
   "execution_count": 20,
   "metadata": {},
   "outputs": [],
   "source": [
    "classes, data_dir_train, data_dir_test, string_class_labels = data_loading()"
   ]
  },
  {
   "cell_type": "markdown",
   "metadata": {},
   "source": [
    "### Data distribution"
   ]
  },
  {
   "cell_type": "code",
   "execution_count": 21,
   "metadata": {},
   "outputs": [],
   "source": [
    "def check_distribution(classes):\n",
    "    class_distribution_dict = dict.fromkeys(classes, 0)\n",
    "    for clas in classes:\n",
    "        path = os.path.join(data_dir_train, clas)\n",
    "        for image in os.listdir(path):\n",
    "            class_distribution_dict[clas] += 1\n",
    "    return class_distribution_dict"
   ]
  },
  {
   "cell_type": "code",
   "execution_count": 22,
   "metadata": {},
   "outputs": [],
   "source": [
    "dct = check_distribution(classes)"
   ]
  },
  {
   "cell_type": "code",
   "execution_count": 23,
   "metadata": {},
   "outputs": [],
   "source": [
    "def plot_distribution(dct):\n",
    "    plt.bar(range(len(dct)), list(dct.values()), align=\"center\")\n",
    "    plt.xticks(range(len(dct)), list(dct.keys()), rotation=90, fontsize=7)\n",
    "    plt.show()"
   ]
  },
  {
   "cell_type": "code",
   "execution_count": 24,
   "metadata": {},
   "outputs": [
    {
     "data": {
      "image/png": "[encoded data removed]",
      "text/plain": [
       "<Figure size 432x288 with 1 Axes>"
      ]
     },
     "metadata": {
      "needs_background": "light"
     },
     "output_type": "display_data"
    }
   ],
   "source": [
    "plot_distribution(dct)"
   ]
  },
  {
   "cell_type": "markdown",
   "metadata": {},
   "source": [
    "### Visualize"
   ]
  },
  {
   "cell_type": "code",
   "execution_count": 25,
   "metadata": {},
   "outputs": [
    {
     "data": {
      "image/png": "[encoded data removed]",
      "text/plain": [
       "<Figure size 432x288 with 1 Axes>"
      ]
     },
     "metadata": {
      "needs_background": "light"
     },
     "output_type": "display_data"
    }
   ],
   "source": [
    "for clas in classes:\n",
    "    path = os.path.join(data_dir_train, clas)\n",
    "    for image in os.listdir(path):\n",
    "        img_array = cv2.imread(os.path.join(path, image))\n",
    "        plt.imshow(cv2.cvtColor(img_array, cv2.COLOR_BGR2RGB))\n",
    "        plt.show()\n",
    "        break\n",
    "    break"
   ]
  },
  {
   "cell_type": "code",
   "execution_count": 26,
   "metadata": {},
   "outputs": [],
   "source": [
    "img_size = 32\n",
    "new_array = cv2.resize(img_array, (img_size, img_size))"
   ]
  },
  {
   "cell_type": "code",
   "execution_count": 27,
   "metadata": {},
   "outputs": [
    {
     "data": {
      "image/png": "[encoded data removed]",
      "text/plain": [
       "<Figure size 432x288 with 1 Axes>"
      ]
     },
     "metadata": {
      "needs_background": "light"
     },
     "output_type": "display_data"
    }
   ],
   "source": [
    "plt.imshow(cv2.cvtColor(new_array, cv2.COLOR_BGR2RGB))\n",
    "plt.show()"
   ]
  },
  {
   "cell_type": "markdown",
   "metadata": {},
   "source": [
    "### Create train and test set"
   ]
  },
  {
   "cell_type": "code",
   "execution_count": null,
   "metadata": {},
   "outputs": [],
   "source": [
    "training_data = []\n",
    "\n",
    "\n",
    "def create_training_data():\n",
    "    for clas in classes:\n",
    "        path = os.path.join(data_dir_train, clas)\n",
    "        num_categories = classes[int(clas)]\n",
    "        for image in os.listdir(path):\n",
    "            try:\n",
    "                img_array = cv2.imread(\n",
    "                    os.path.join(path, image)\n",
    "                )  # reading in bgr format\n",
    "                new_array = cv2.resize(img_array, (img_size, img_size))\n",
    "                training_data.append([new_array, int(num_categories)])\n",
    "            except Exception as e:\n",
    "                pass\n",
    "    return training_data\n",
    "\n",
    "\n",
    "create_training_data()"
   ]
  },
  {
   "cell_type": "code",
   "execution_count": null,
   "metadata": {},
   "outputs": [],
   "source": [
    "test_data = []\n",
    "\n",
    "\n",
    "def create_test_data():\n",
    "    test_set = pd.read_csv(data_dir_test + \".csv\", usecols=[\"ClassId\", \"Path\"])\n",
    "    test_set_dict = test_set.set_index(\"Path\")[\"ClassId\"].to_dict()\n",
    "    labels = test_set[\"ClassId\"].values\n",
    "    imgs = test_set[\"Path\"].values\n",
    "    for img in imgs:\n",
    "        try:\n",
    "            image_test_array = cv2.imread(os.path.join(data_dir_test, img[5:]))\n",
    "            new_test_array = cv2.resize(image_test_array, (img_size, img_size))\n",
    "            test_data.append([new_test_array, test_set_dict[img]])\n",
    "            # test_data.append(np.array(new_test_array))\n",
    "        except Exception as e:\n",
    "            pass\n",
    "    return test_data\n",
    "\n",
    "\n",
    "create_test_data()"
   ]
  },
  {
   "cell_type": "code",
   "execution_count": 30,
   "metadata": {},
   "outputs": [],
   "source": [
    "def data_prep(train, test):\n",
    "    # for training set\n",
    "    random.shuffle(train)\n",
    "    X_train = []\n",
    "    Y_train = []\n",
    "    for features, label in train:\n",
    "        X_train.append(features)\n",
    "        Y_train.append(label)\n",
    "\n",
    "    X_train = np.array(X_train).reshape(-1, img_size, img_size, 3)\n",
    "    X_train = X_train / 255.0\n",
    "\n",
    "    # for test set\n",
    "    random.shuffle(test)\n",
    "    X_test = []\n",
    "    Y_test = []\n",
    "    for features, label in test:\n",
    "        X_test.append(features)\n",
    "        Y_test.append(label)\n",
    "\n",
    "    X_test = np.array(X_test).reshape(-1, img_size, img_size, 3)\n",
    "    X_test = X_test / 255.0\n",
    "\n",
    "    return X_train, Y_train, X_test, Y_test"
   ]
  },
  {
   "cell_type": "code",
   "execution_count": 31,
   "metadata": {},
   "outputs": [],
   "source": [
    "X_train, Y_train, X_test, Y_test = data_prep(training_data, test_data)"
   ]
  },
  {
   "cell_type": "markdown",
   "metadata": {},
   "source": [
    "### Save data"
   ]
  },
  {
   "cell_type": "code",
   "execution_count": 32,
   "metadata": {},
   "outputs": [],
   "source": [
    "def save_data():\n",
    "    save(\"X_GTS_train_copy.npy\", X_train)\n",
    "    save(\"Y_GTS_train_copy.npy\", Y_train)\n",
    "    save(\"X_GTS_test_copy.npy\", X_test)\n",
    "    save(\"Y_GTS_test_copy.npy\", Y_test)\n",
    "    save(\"Class_labels_copy.npy\", string_class_labels)"
   ]
  },
  {
   "cell_type": "markdown",
   "metadata": {},
   "source": [
    "### Unit Test"
   ]
  },
  {
   "cell_type": "code",
   "execution_count": 33,
   "metadata": {},
   "outputs": [
    {
     "name": "stderr",
     "output_type": "stream",
     "text": [
      "..\n",
      "----------------------------------------------------------------------\n",
      "Ran 2 tests in 0.128s\n",
      "\n",
      "OK\n"
     ]
    }
   ],
   "source": [
    "class Test(unittest.TestCase):\n",
    "    def test_data_shape(self):\n",
    "        new_array_shape = (img_size, img_size, 3)\n",
    "        X_train_shape = (len(training_data), img_size, img_size, 3)\n",
    "        X_test_shape = (len(test_data), img_size, img_size, 3)\n",
    "\n",
    "        self.assertEqual(X_train_shape, X_train.shape)\n",
    "        self.assertEqual(X_test_shape, X_test.shape)\n",
    "\n",
    "    def test_minmax_pixelvalue(self):\n",
    "        self.assertLessEqual([1.0, 1.0], [np.max(X_train), np.max(X_test)])\n",
    "        self.assertGreaterEqual([0.0, 0.0], [np.min(X_train), np.min(X_test)])\n",
    "\n",
    "\n",
    "if __name__ == \"__main__\":\n",
    "    unittest.main(argv=[\"first-arg-is-ignored\"], exit=False)"
   ]
  },
  {
   "cell_type": "code",
   "execution_count": 34,
   "metadata": {},
   "outputs": [],
   "source": [
    "save_data()"
   ]
  }
 ],
 "metadata": {
  "kernelspec": {
   "display_name": "Python 3",
   "language": "python",
   "name": "python3"
  },
  "language_info": {
   "codemirror_mode": {
    "name": "ipython",
    "version": 3
   },
   "file_extension": ".py",
   "mimetype": "text/x-python",
   "name": "python",
   "nbconvert_exporter": "python",
   "pygments_lexer": "ipython3",
   "version": "3.8.3"
  }
 },
 "nbformat": 4,
 "nbformat_minor": 4
}
